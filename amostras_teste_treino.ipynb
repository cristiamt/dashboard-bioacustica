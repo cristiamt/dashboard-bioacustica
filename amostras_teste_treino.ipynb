{
 "cells": [
  {
   "cell_type": "code",
   "execution_count": 2,
   "id": "ea511865-bb2f-4178-bc48-63842fa215cb",
   "metadata": {},
   "outputs": [
    {
     "name": "stdout",
     "output_type": "stream",
     "text": [
      "PASTEJO - Treino: 3940 arquivos\n",
      "PASTEJO - Teste: 1690 arquivos\n",
      "RUMINACAO - Treino: 2190 arquivos\n",
      "RUMINACAO - Teste: 939 arquivos\n",
      "OCIO - Treino: 1572 arquivos\n",
      "OCIO - Teste: 674 arquivos\n",
      "AGUA - Treino: 7 arquivos\n",
      "AGUA - Teste: 4 arquivos\n",
      "\n",
      "✅ Organização concluída!\n"
     ]
    }
   ],
   "source": [
    "import os\n",
    "import shutil\n",
    "import random\n",
    "import unicodedata\n",
    "\n",
    "# Caminho dos arquivos de entrada\n",
    "entrada = r\"C:\\Users\\Chericoni\\Bioacustica\\Imagens\"\n",
    "saida_base = r\"C:\\Users\\Chericoni\\Bioacustica\\Imagens\"\n",
    "\n",
    "# Proporção treino/teste\n",
    "proporcao_treino = 0.7\n",
    "\n",
    "# Classes esperadas\n",
    "classes = [\"pastejo\", \"ruminacao\", \"ocio\", \"agua\"]\n",
    "\n",
    "# Função para normalizar rótulo (sem acento, minúsculo)\n",
    "def extrair_classe(nome_arquivo):\n",
    "    nome = unicodedata.normalize(\"NFD\", nome_arquivo.lower())\n",
    "    nome = nome.encode(\"ascii\", \"ignore\").decode(\"utf-8\")\n",
    "    for classe in classes:\n",
    "        if classe in nome:\n",
    "            return classe\n",
    "    return None\n",
    "\n",
    "# Coletar arquivos por classe\n",
    "arquivos_por_classe = {classe: [] for classe in classes}\n",
    "for arquivo in os.listdir(entrada):\n",
    "    if arquivo.endswith(\".png\"):\n",
    "        classe = extrair_classe(arquivo)\n",
    "        if classe:\n",
    "            arquivos_por_classe[classe].append(arquivo)\n",
    "\n",
    "# Criar pastas e mover arquivos\n",
    "for classe, arquivos in arquivos_por_classe.items():\n",
    "    random.shuffle(arquivos)\n",
    "    n_total = len(arquivos)\n",
    "    n_treino = int(n_total * proporcao_treino)\n",
    "    treino, teste = arquivos[:n_treino], arquivos[n_treino:]\n",
    "\n",
    "    for tipo, lista in [(\"Treino\", treino), (\"Teste\", teste)]:\n",
    "        destino_classe = os.path.join(saida_base, tipo, classe)\n",
    "        os.makedirs(destino_classe, exist_ok=True)\n",
    "        for arquivo in lista:\n",
    "            origem = os.path.join(entrada, arquivo)\n",
    "            destino = os.path.join(destino_classe, arquivo)\n",
    "            shutil.copy2(origem, destino)\n",
    "\n",
    "        print(f\"{classe.upper()} - {tipo}: {len(lista)} arquivos\")\n",
    "\n",
    "print(\"\\n✅ Organização concluída!\")\n"
   ]
  },
  {
   "cell_type": "code",
   "execution_count": null,
   "id": "996e8972-bb2f-4bcf-af28-8f463b1d1338",
   "metadata": {},
   "outputs": [],
   "source": []
  }
 ],
 "metadata": {
  "kernelspec": {
   "display_name": "Python 3 (ipykernel)",
   "language": "python",
   "name": "python3"
  },
  "language_info": {
   "codemirror_mode": {
    "name": "ipython",
    "version": 3
   },
   "file_extension": ".py",
   "mimetype": "text/x-python",
   "name": "python",
   "nbconvert_exporter": "python",
   "pygments_lexer": "ipython3",
   "version": "3.11.7"
  }
 },
 "nbformat": 4,
 "nbformat_minor": 5
}
